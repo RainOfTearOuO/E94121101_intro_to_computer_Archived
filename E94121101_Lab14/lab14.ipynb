{
  "cells": [
    {
      "cell_type": "markdown",
      "metadata": {
        "id": "4sVfxRF2UC2H"
      },
      "source": [
        "# 下載 MNIST 資料\n",
        "---\n",
        "首先，匯入 keras 和相關模組。"
      ]
    },
    {
      "cell_type": "code",
      "execution_count": 1,
      "metadata": {
        "id": "r43pJCz-n8vP"
      },
      "outputs": [],
      "source": [
        "# 匯入 numpy 和 pandas 模組，numpy 是 python 的程式庫，支援維度陣列與矩陣運算。\n",
        "# pandas 則提供檔案存取和數據操縱。\n",
        "import numpy as np\n",
        "import pandas as pd\n",
        "# 從 keras.utils 匯入 to_categroical，因為後續要將 label 標籤 轉換成 one-hot encoding。\n",
        "from tensorflow.keras.utils import to_categorical\n",
        "# 設定 seed 可以讓每次產生隨機值時，都會有相同的輸出。(若使用GPU，則無法每次皆相同)\n",
        "seed = 1101\n",
        "np.random.seed(seed)"
      ]
    },
    {
      "cell_type": "markdown",
      "metadata": {
        "id": "hgn5zsNAYY6A"
      },
      "source": [
        "Keras 中已經提供許多機器學習常用的數據集，包括波士頓房地產數據、CIFAR10、和這次範例要使用的手寫數據集。所以先從 keras 匯入 MNIST。\n",
        "\n",
        "第一次執行 mnist.load_data() ，程式會檢查目錄是否已經有檔案，如果沒有就會自動下載，所以第一次可能都會比較久。之後再次執行時不用再次下載就會快速很多。\n"
      ]
    },
    {
      "cell_type": "code",
      "execution_count": 2,
      "metadata": {
        "id": "vlDNq1x_n8vS"
      },
      "outputs": [],
      "source": [
        "from tensorflow.keras.datasets import mnist,cifar10\n",
        "(X_train_image, y_train_label),\\\n",
        "    (X_test_image, y_test_label) = mnist.load_data()"
      ]
    },
    {
      "cell_type": "markdown",
      "metadata": {
        "id": "4GZl5_1ndtWZ"
      },
      "source": [
        "先來看看 MNIST 資料數據集的筆數，還有訓練資料的組成。\n",
        "\n",
        "可以看到 train 訓練資料有 60000 筆，test 測試資料有 10000 筆。\n",
        "\n",
        "訓練資料是由 images 和 labels 所組成共 60000 筆， images 是單色的數字影像，labels 是數字影像對應的真實值。"
      ]
    },
    {
      "cell_type": "code",
      "execution_count": 3,
      "metadata": {
        "id": "FsuxbJdEn8vS",
        "colab": {
          "base_uri": "https://localhost:8080/"
        },
        "outputId": "85d66772-c4d6-4c59-977f-93a6af93c775"
      },
      "outputs": [
        {
          "output_type": "stream",
          "name": "stdout",
          "text": [
            "train data :  60000\n",
            "test data :  10000\n"
          ]
        }
      ],
      "source": [
        "print('train data : ', len(X_train_image))\n",
        "print('test data : ', len(X_test_image))"
      ]
    },
    {
      "cell_type": "code",
      "execution_count": 4,
      "metadata": {
        "id": "sxNW-yfUn8vT",
        "colab": {
          "base_uri": "https://localhost:8080/"
        },
        "outputId": "45817b68-25ee-4203-9919-5c579959db60"
      },
      "outputs": [
        {
          "output_type": "stream",
          "name": "stdout",
          "text": [
            "x_train_image :  (60000, 28, 28)\n",
            "y_train_label :  (60000,)\n"
          ]
        }
      ],
      "source": [
        "print('x_train_image : ', X_train_image.shape)\n",
        "print('y_train_label : ', y_train_label.shape)"
      ]
    },
    {
      "cell_type": "markdown",
      "metadata": {
        "id": "p1UqvEszhGu7"
      },
      "source": [
        "# 建立 plot_image 函式來顯示數字影像\n",
        "---\n",
        "來看看剛剛匯入的手寫數字圖像。\n",
        "\n"
      ]
    },
    {
      "cell_type": "code",
      "execution_count": 5,
      "metadata": {
        "id": "aldFBwdNn8vU"
      },
      "outputs": [],
      "source": [
        "import matplotlib.pyplot as plt\n",
        "def plot_image(image):\n",
        "    # 設定圖形顯示大小\n",
        "    fig = plt.gcf()\n",
        "    fig.set_size_inches(2, 2)\n",
        "    # 使用 plt.imshow() 顯示圖像，傳入參數是 28 X 28 的圖形，\n",
        "    # cmap 參數設定為 binary 以黑白灰階顯示\n",
        "    plt.imshow(image, cmap = 'binary')\n",
        "    # 開始繪圖\n",
        "    plt.show()"
      ]
    },
    {
      "cell_type": "markdown",
      "metadata": {
        "id": "-5OMZLgiljix"
      },
      "source": [
        "傳入訓練集第一筆資料，來看看他的影像。"
      ]
    },
    {
      "cell_type": "code",
      "execution_count": 6,
      "metadata": {
        "id": "qrrZ-gcfn8vU",
        "colab": {
          "base_uri": "https://localhost:8080/",
          "height": 217
        },
        "outputId": "68ae0fad-8d2a-46a3-a33a-8942231b7605"
      },
      "outputs": [
        {
          "output_type": "display_data",
          "data": {
            "text/plain": [
              "<Figure size 200x200 with 1 Axes>"
            ],
            "image/png": "[encoded data removed]"
          },
          "metadata": {}
        }
      ],
      "source": [
        "plot_image(X_train_image[200])"
      ]
    },
    {
      "cell_type": "markdown",
      "metadata": {
        "id": "R43L94LSl2IK"
      },
      "source": [
        "看看第一筆資料的 label"
      ]
    },
    {
      "cell_type": "code",
      "execution_count": 7,
      "metadata": {
        "id": "CctZ26v_n8vV",
        "colab": {
          "base_uri": "https://localhost:8080/"
        },
        "outputId": "5e07f075-5d91-4a97-8090-95e5b4c35fdf"
      },
      "outputs": [
        {
          "output_type": "execute_result",
          "data": {
            "text/plain": [
              "1"
            ]
          },
          "metadata": {},
          "execution_count": 7
        }
      ],
      "source": [
        "y_train_label[200]"
      ]
    },
    {
      "cell_type": "markdown",
      "metadata": {
        "id": "oXPaFNNjounB"
      },
      "source": [
        "# 查看多筆資料 images 與 labels\n",
        "---\n",
        "定義 plot_images_labels_prediction() 函式，傳入以下參數：images(數字影像)、labels(對應數字真實值)、prediction(預測結果)、idx(開始顯示影像的index)、num(要顯示的資料筆數，預設是10，不超過25)\n"
      ]
    },
    {
      "cell_type": "code",
      "execution_count": 8,
      "metadata": {
        "id": "wVDmYBSWn8vV"
      },
      "outputs": [],
      "source": [
        "def plot_images_labels_prediction(images, labels, prediction,\n",
        "                                    idx, num = 10):\n",
        "    # 設定顯示圖形大小\n",
        "    fig = plt.gcf()\n",
        "    fig.set_size_inches(12, 14)\n",
        "    # 如果顯示筆數大於25 則將他設定為25 以避免錯誤\n",
        "    if num > 25: num = 25\n",
        "    # 使用 for 迴圈依序畫出 num 個數字圖形\n",
        "    for i in range(0, num):\n",
        "        ax = plt.subplot(5, 5, 1+i) # 建立 5 X 5 的 subgraph 子圖形\n",
        "        ax.imshow(images[idx], cmap = 'binary') # 畫出 subgraph 子圖形\n",
        "        title = \"label=\" + str(labels[idx]) # 設定子圖形 title 顯示標籤欄位\n",
        "        if len(prediction) > 0: # 如果 prediction 有傳入值\n",
        "            title += \",predict=\" + str(prediction[idx]) # 將 prediction 加入 title\n",
        "        ax.set_title(title, fontsize = 10) # 設定標題大小\n",
        "        ax.set_xticks([]); ax.set_yticks([]) # 設定不顯示刻度\n",
        "        idx += 1 # 讀取下一筆\n",
        "    plt.show() # 開始畫圖"
      ]
    },
    {
      "cell_type": "markdown",
      "metadata": {
        "id": "epHsMhfHzBAT"
      },
      "source": [
        "顯示訓練資料前 10 筆資料。不過目前還沒有預測結果所以傳入空 list ，由第 0 筆開始顯示至第 9 筆。"
      ]
    },
    {
      "cell_type": "code",
      "execution_count": 9,
      "metadata": {
        "id": "y-iLff1vn8vW",
        "colab": {
          "base_uri": "https://localhost:8080/",
          "height": 439
        },
        "outputId": "86a5e5f8-dfd5-4ace-d7c2-cee83a8cf9de"
      },
      "outputs": [
        {
          "output_type": "display_data",
          "data": {
            "text/plain": [
              "<Figure size 1200x1400 with 10 Axes>"
            ],
            "image/png": "[encoded data removed]"
          },
          "metadata": {}
        }
      ],
      "source": [
        "plot_images_labels_prediction(X_train_image, y_train_label, [], 0, 10)"
      ]
    },
    {
      "cell_type": "markdown",
      "metadata": {
        "id": "Ae4v3BOYzfz0"
      },
      "source": [
        "查看 test 測試資料筆數，可以看到共10000筆資料。"
      ]
    },
    {
      "cell_type": "code",
      "execution_count": 10,
      "metadata": {
        "id": "TKTXr0uin8vW",
        "colab": {
          "base_uri": "https://localhost:8080/"
        },
        "outputId": "cf68a2a5-1d3b-4e20-943c-139c4da53c60"
      },
      "outputs": [
        {
          "output_type": "stream",
          "name": "stdout",
          "text": [
            "x_test_image :  (10000, 28, 28)\n",
            "y_test_label :  (10000,)\n"
          ]
        }
      ],
      "source": [
        "print('x_test_image : ', X_test_image.shape)\n",
        "print('y_test_label : ', y_test_label.shape)"
      ]
    },
    {
      "cell_type": "markdown",
      "metadata": {
        "id": "KteBBFUTzr3s"
      },
      "source": [
        "顯示測試資料前 10 筆資料圖形。"
      ]
    },
    {
      "cell_type": "code",
      "execution_count": 11,
      "metadata": {
        "id": "ISt-J68Zn8vX",
        "colab": {
          "base_uri": "https://localhost:8080/",
          "height": 439
        },
        "outputId": "e1e4d975-213f-4459-ea56-9a2595b3aec3"
      },
      "outputs": [
        {
          "output_type": "display_data",
          "data": {
            "text/plain": [
              "<Figure size 1200x1400 with 10 Axes>"
            ],
            "image/png": "[encoded data removed]"
          },
          "metadata": {}
        }
      ],
      "source": [
        "plot_images_labels_prediction(X_test_image, y_test_label, [], 0, 10)"
      ]
    },
    {
      "cell_type": "markdown",
      "metadata": {
        "id": "HRNmke3J1E1t"
      },
      "source": [
        "# feature(數字影像的特徵值)資料預處理\n"
      ]
    },
    {
      "cell_type": "code",
      "execution_count": 12,
      "metadata": {
        "id": "ms3N-1iUn8vX"
      },
      "outputs": [],
      "source": [
        "X_Train = X_train_image.astype('float32')\n",
        "X_Test = X_test_image.astype('float32')"
      ]
    },
    {
      "cell_type": "markdown",
      "metadata": {
        "id": "AdqLK9G12DbJ"
      },
      "source": [
        "查看一下每一個數字影像都變成 784 個 float 數字。"
      ]
    },
    {
      "cell_type": "code",
      "execution_count": 13,
      "metadata": {
        "id": "uBbTQ0gWn8vX",
        "colab": {
          "base_uri": "https://localhost:8080/"
        },
        "outputId": "98a33a45-602c-4469-c022-25cd17319d72"
      },
      "outputs": [
        {
          "output_type": "stream",
          "name": "stdout",
          "text": [
            "x_train :  (60000, 28, 28)\n",
            "x_test :  (10000, 28, 28)\n"
          ]
        }
      ],
      "source": [
        "print('x_train : ', X_Train.shape)\n",
        "print('x_test : ', X_Test.shape)"
      ]
    },
    {
      "cell_type": "markdown",
      "metadata": {
        "id": "ivdFFYiD2WqY"
      },
      "source": [
        "將 image 的數字標準化。\n",
        "\n",
        "因為圖像的數字是介於 0 到 255，所以最簡單的方法就是除以 255。"
      ]
    },
    {
      "cell_type": "code",
      "execution_count": 14,
      "metadata": {
        "id": "NDMKuvtIn8vY"
      },
      "outputs": [],
      "source": [
        "X_Train_normalize = X_Train / 255\n",
        "X_Test_normalize = X_Test / 255"
      ]
    },
    {
      "cell_type": "markdown",
      "metadata": {
        "id": "CDWfCYgu29br"
      },
      "source": [
        "# labels(數字影像對應真實值)資料預處理\n",
        "---\n",
        "先來查看一下訓練資料 label 標籤欄位前五筆資料，可以看到這是 0 ~ 9 的單一數字。"
      ]
    },
    {
      "cell_type": "code",
      "execution_count": 15,
      "metadata": {
        "id": "_OPr_LFYn8vY",
        "colab": {
          "base_uri": "https://localhost:8080/"
        },
        "outputId": "1e3ad86f-a8da-48d0-f3da-1ff8c82326a9"
      },
      "outputs": [
        {
          "output_type": "execute_result",
          "data": {
            "text/plain": [
              "array([5, 0, 4, 1, 9], dtype=uint8)"
            ]
          },
          "metadata": {},
          "execution_count": 15
        }
      ],
      "source": [
        "y_train_label[:5]"
      ]
    },
    {
      "cell_type": "markdown",
      "metadata": {
        "id": "0HVpRwTMlWTo"
      },
      "source": [
        "使用我們開頭匯入的 to_categorical函式，傳入 label 標籤，將他們轉換成 one-hot encoding。"
      ]
    },
    {
      "cell_type": "code",
      "execution_count": 16,
      "metadata": {
        "id": "Am_djE9Cn8vY"
      },
      "outputs": [],
      "source": [
        "y_TrainOneHot = to_categorical(y_train_label)\n",
        "y_TestOneHot = to_categorical(y_test_label)"
      ]
    },
    {
      "cell_type": "markdown",
      "metadata": {
        "id": "IdhtS_VDl6kg"
      },
      "source": [
        "查看轉換過後的結果。"
      ]
    },
    {
      "cell_type": "code",
      "execution_count": 17,
      "metadata": {
        "id": "ehbvMVISn8vZ",
        "colab": {
          "base_uri": "https://localhost:8080/"
        },
        "outputId": "37fc91a7-2f23-4cf4-8a28-6113f9e63f65"
      },
      "outputs": [
        {
          "output_type": "execute_result",
          "data": {
            "text/plain": [
              "array([[0., 0., 0., 0., 0., 1., 0., 0., 0., 0.],\n",
              "       [1., 0., 0., 0., 0., 0., 0., 0., 0., 0.],\n",
              "       [0., 0., 0., 0., 1., 0., 0., 0., 0., 0.],\n",
              "       [0., 1., 0., 0., 0., 0., 0., 0., 0., 0.],\n",
              "       [0., 0., 0., 0., 0., 0., 0., 0., 0., 1.]], dtype=float32)"
            ]
          },
          "metadata": {},
          "execution_count": 17
        }
      ],
      "source": [
        "y_TrainOneHot[:5]"
      ]
    },
    {
      "cell_type": "markdown",
      "metadata": {
        "id": "VZ24AXlCmC2g"
      },
      "source": [
        "# 建立 MLP 模型\n",
        "---\n",
        "接下來建立我們的多層感知器模型，輸入層共有 (28*28) 個神經元，隱藏層 32 個神經元，最後輸出層共有 10 個神經元。\n",
        "\n",
        "首先先匯入所需要的模組。"
      ]
    },
    {
      "cell_type": "code",
      "execution_count": 18,
      "metadata": {
        "id": "6t3RUk-wn8vZ"
      },
      "outputs": [],
      "source": [
        "from tensorflow.keras import layers, metrics\n",
        "from tensorflow.keras.layers import Dense,InputLayer,Flatten\n",
        "from tensorflow.keras import models\n",
        "import tensorflow as tf\n",
        "tf.random.set_seed(seed)"
      ]
    },
    {
      "cell_type": "markdown",
      "metadata": {
        "id": "_KqO-SLQm7Dk"
      },
      "source": [
        "建立 Sequential 一個線性堆疊模型，後續只要使用 model.add() 將個神經網路層依序加入模型即可。"
      ]
    },
    {
      "cell_type": "code",
      "execution_count": 19,
      "metadata": {
        "id": "RJKfB6H8n8vZ"
      },
      "outputs": [],
      "source": [
        "model = models.Sequential()"
      ]
    },
    {
      "cell_type": "markdown",
      "source": [
        "建立輸入層\n",
        "1.   設定輸入層神經元 維度為 (28,28,1)。\n",
        "2.   把(28,28,1)攤平，變成一維"
      ],
      "metadata": {
        "id": "3PvA6D4BrQmP"
      }
    },
    {
      "cell_type": "code",
      "source": [
        "model.add(InputLayer(input_shape=(28,28,1)))\n",
        "model.add(Flatten())"
      ],
      "metadata": {
        "id": "MlQx3w1krP2X"
      },
      "execution_count": 20,
      "outputs": []
    },
    {
      "cell_type": "markdown",
      "metadata": {
        "id": "uvAqC0q3nZdO"
      },
      "source": [
        "建立隱藏層。\n",
        "1.   定義隱藏層神經元 32 個。\n",
        "2.   設定激活函數為 sigmoid。\n",
        "\n",
        "可以在keras官方文件查看可以使用的Activation function\n",
        "https://keras.io/zh/activations/\n",
        "\n"
      ]
    },
    {
      "cell_type": "code",
      "execution_count": 21,
      "metadata": {
        "id": "2bCNDEF7n8vZ"
      },
      "outputs": [],
      "source": [
        "model.add(Dense(200,  kernel_initializer = 'random_uniform',activation = 'sigmoid'))\n"
      ]
    },
    {
      "cell_type": "markdown",
      "metadata": {
        "id": "DU9GQ-0VoRaS"
      },
      "source": [
        "建立輸出層總共 10 個神經元，對應要分類的數字類別 0 ~ 9 。設定激活函數為 softmax ，這樣每一個神經元的輸出結果可視為預測每一個數字的機率。"
      ]
    },
    {
      "cell_type": "code",
      "execution_count": 22,
      "metadata": {
        "id": "4cgofZ9Yn8va"
      },
      "outputs": [],
      "source": [
        "model.add(Dense(10, kernel_initializer = 'normal', activation = 'softmax'))"
      ]
    },
    {
      "cell_type": "markdown",
      "metadata": {
        "id": "I5tigyhWo3eg"
      },
      "source": [
        "來看看我們建好的模型的摘要。"
      ]
    },
    {
      "cell_type": "code",
      "execution_count": 23,
      "metadata": {
        "id": "yw-ifJ58n8va",
        "colab": {
          "base_uri": "https://localhost:8080/"
        },
        "outputId": "095a5cb1-ee56-47c1-e6c2-2bfa92a78f63"
      },
      "outputs": [
        {
          "output_type": "stream",
          "name": "stdout",
          "text": [
            "Model: \"sequential\"\n",
            "_________________________________________________________________\n",
            " Layer (type)                Output Shape              Param #   \n",
            "=================================================================\n",
            " flatten (Flatten)           (None, 784)               0         \n",
            "                                                                 \n",
            " dense (Dense)               (None, 200)               157000    \n",
            "                                                                 \n",
            " dense_1 (Dense)             (None, 10)                2010      \n",
            "                                                                 \n",
            "=================================================================\n",
            "Total params: 159010 (621.13 KB)\n",
            "Trainable params: 159010 (621.13 KB)\n",
            "Non-trainable params: 0 (0.00 Byte)\n",
            "_________________________________________________________________\n",
            "None\n"
          ]
        }
      ],
      "source": [
        "print(model.summary())"
      ]
    },
    {
      "cell_type": "markdown",
      "metadata": {
        "id": "mR__ZeJ8pS0Y"
      },
      "source": [
        "# 進行訓練\n",
        "---\n",
        "首先使用 compile ，對訓練模型進行設定。相關參數有：\n",
        "1.   loss : 設定損失函數，這邊使用 CategoricalCrossentropy。另外也還有很多不同的函數，可以到 keras 官網查詢，不同的模型和資料都有他們最適合的函數。\n",
        "2.   optimizer : 設定優化方法，這邊使用 sgd 方法。同樣 keras 也提供很多種優化方法。https://keras.io/zh/optimizers/\n",
        "1.   metrics : 設定評估模型的方式是 accuracy 準確率。"
      ]
    },
    {
      "cell_type": "code",
      "execution_count": 24,
      "metadata": {
        "id": "CNMv_62tn8va"
      },
      "outputs": [],
      "source": [
        "loss_function = 'CategoricalCrossentropy'\n",
        "optimize_function = 'Adam' # Adadelta , Adagrad ,Adam ,Adamax ,FTRL ,Nadam ,RMSprop ,sgd\n",
        "model.compile(loss = loss_function, optimizer = optimize_function,metrics = ['accuracy'])"
      ]
    },
    {
      "cell_type": "markdown",
      "metadata": {
        "id": "jeXXrNn_rCxB"
      },
      "source": [
        "開始訓練，過程都會儲存在 train_history 變數，其中的相關參數：\n",
        "1.   設定 validation_split = 0.2 ，將訓練資料 80% 作為訓練，20% 作為驗證資料。\n",
        "1.   設定 epochs 執行 10 次訓練週期。每一批次 batch_size 有 200 筆資料。\n",
        "2.   verbose = 2，顯示訓練過程。"
      ]
    },
    {
      "cell_type": "code",
      "execution_count": 25,
      "metadata": {
        "id": "A9mb8zN3n8va",
        "colab": {
          "base_uri": "https://localhost:8080/"
        },
        "outputId": "84a9d298-58d9-4f13-de29-e63909bc5284"
      },
      "outputs": [
        {
          "output_type": "stream",
          "name": "stdout",
          "text": [
            "Epoch 1/20\n",
            "240/240 - 2s - loss: 0.8071 - accuracy: 0.8189 - val_loss: 0.3560 - val_accuracy: 0.9068 - 2s/epoch - 10ms/step\n",
            "Epoch 2/20\n",
            "240/240 - 1s - loss: 0.3213 - accuracy: 0.9125 - val_loss: 0.2669 - val_accuracy: 0.9264 - 705ms/epoch - 3ms/step\n",
            "Epoch 3/20\n",
            "240/240 - 1s - loss: 0.2569 - accuracy: 0.9256 - val_loss: 0.2303 - val_accuracy: 0.9359 - 755ms/epoch - 3ms/step\n",
            "Epoch 4/20\n",
            "240/240 - 1s - loss: 0.2189 - accuracy: 0.9370 - val_loss: 0.2027 - val_accuracy: 0.9441 - 714ms/epoch - 3ms/step\n",
            "Epoch 5/20\n",
            "240/240 - 1s - loss: 0.1907 - accuracy: 0.9452 - val_loss: 0.1826 - val_accuracy: 0.9482 - 1s/epoch - 5ms/step\n",
            "Epoch 6/20\n",
            "240/240 - 1s - loss: 0.1693 - accuracy: 0.9511 - val_loss: 0.1673 - val_accuracy: 0.9527 - 1s/epoch - 4ms/step\n",
            "Epoch 7/20\n",
            "240/240 - 1s - loss: 0.1512 - accuracy: 0.9567 - val_loss: 0.1555 - val_accuracy: 0.9567 - 1s/epoch - 6ms/step\n",
            "Epoch 8/20\n",
            "240/240 - 2s - loss: 0.1360 - accuracy: 0.9609 - val_loss: 0.1447 - val_accuracy: 0.9598 - 2s/epoch - 9ms/step\n",
            "Epoch 9/20\n",
            "240/240 - 2s - loss: 0.1233 - accuracy: 0.9649 - val_loss: 0.1363 - val_accuracy: 0.9611 - 2s/epoch - 9ms/step\n",
            "Epoch 10/20\n",
            "240/240 - 1s - loss: 0.1125 - accuracy: 0.9683 - val_loss: 0.1290 - val_accuracy: 0.9628 - 1s/epoch - 6ms/step\n",
            "Epoch 11/20\n",
            "240/240 - 1s - loss: 0.1020 - accuracy: 0.9715 - val_loss: 0.1223 - val_accuracy: 0.9658 - 1s/epoch - 6ms/step\n",
            "Epoch 12/20\n",
            "240/240 - 1s - loss: 0.0930 - accuracy: 0.9746 - val_loss: 0.1197 - val_accuracy: 0.9667 - 1s/epoch - 5ms/step\n",
            "Epoch 13/20\n",
            "240/240 - 1s - loss: 0.0852 - accuracy: 0.9770 - val_loss: 0.1129 - val_accuracy: 0.9677 - 1s/epoch - 5ms/step\n",
            "Epoch 14/20\n",
            "240/240 - 1s - loss: 0.0780 - accuracy: 0.9783 - val_loss: 0.1074 - val_accuracy: 0.9682 - 1s/epoch - 6ms/step\n",
            "Epoch 15/20\n",
            "240/240 - 1s - loss: 0.0714 - accuracy: 0.9805 - val_loss: 0.1026 - val_accuracy: 0.9697 - 1s/epoch - 5ms/step\n",
            "Epoch 16/20\n",
            "240/240 - 1s - loss: 0.0653 - accuracy: 0.9830 - val_loss: 0.0986 - val_accuracy: 0.9707 - 1s/epoch - 5ms/step\n",
            "Epoch 17/20\n",
            "240/240 - 1s - loss: 0.0600 - accuracy: 0.9845 - val_loss: 0.0968 - val_accuracy: 0.9714 - 1s/epoch - 5ms/step\n",
            "Epoch 18/20\n",
            "240/240 - 1s - loss: 0.0551 - accuracy: 0.9859 - val_loss: 0.0927 - val_accuracy: 0.9724 - 1s/epoch - 5ms/step\n",
            "Epoch 19/20\n",
            "240/240 - 1s - loss: 0.0505 - accuracy: 0.9876 - val_loss: 0.0915 - val_accuracy: 0.9722 - 1s/epoch - 4ms/step\n",
            "Epoch 20/20\n",
            "240/240 - 1s - loss: 0.0463 - accuracy: 0.9887 - val_loss: 0.0898 - val_accuracy: 0.9732 - 946ms/epoch - 4ms/step\n"
          ]
        }
      ],
      "source": [
        "train_history = model.fit(x = X_Train_normalize, y = y_TrainOneHot,\n",
        "                            validation_split = 0.2, epochs = 20, batch_size = 200,\n",
        "                            verbose = 2)"
      ]
    },
    {
      "cell_type": "markdown",
      "metadata": {
        "id": "y2UhJPyc39PF"
      },
      "source": [
        "建立函式顯示訓練過程，會將每一個訓練週期的 accuracy 和 loss 以圖表顯示出來。"
      ]
    },
    {
      "cell_type": "code",
      "execution_count": 26,
      "metadata": {
        "id": "oQgpTAEfn8vb"
      },
      "outputs": [],
      "source": [
        "def show_train_history(train_history, train, validation):\n",
        "    plt.plot(train_history.history[train])\n",
        "    plt.plot(train_history.history[validation])\n",
        "    plt.title('Train History')\n",
        "    plt.ylabel(train)\n",
        "    plt.xlabel('Epoch')\n",
        "    plt.legend(['train', 'validation'], loc = 'upper left')\n",
        "    plt.show()"
      ]
    },
    {
      "cell_type": "code",
      "execution_count": 27,
      "metadata": {
        "id": "Gd1cWRrKn8vb",
        "colab": {
          "base_uri": "https://localhost:8080/",
          "height": 472
        },
        "outputId": "f8103814-ca56-4903-c8da-9ed0e2fc0d6e"
      },
      "outputs": [
        {
          "output_type": "display_data",
          "data": {
            "text/plain": [
              "<Figure size 640x480 with 1 Axes>"
            ],
            "image/png": "[encoded data removed]"
          },
          "metadata": {}
        }
      ],
      "source": [
        "show_train_history(train_history, 'accuracy', 'val_accuracy')"
      ]
    },
    {
      "cell_type": "code",
      "execution_count": 28,
      "metadata": {
        "id": "BW7YX87on8vb",
        "colab": {
          "base_uri": "https://localhost:8080/",
          "height": 472
        },
        "outputId": "44d8a948-957f-4467-8202-733aadb8830e"
      },
      "outputs": [
        {
          "output_type": "display_data",
          "data": {
            "text/plain": [
              "<Figure size 640x480 with 1 Axes>"
            ],
            "image/png": "[encoded data removed]"
          },
          "metadata": {}
        }
      ],
      "source": [
        "show_train_history(train_history, 'loss', 'val_loss')"
      ]
    },
    {
      "cell_type": "markdown",
      "metadata": {
        "id": "fhHrcEWo4iJD"
      },
      "source": [
        "# 以測試資料評估模型準確率\n",
        "---\n"
      ]
    },
    {
      "cell_type": "code",
      "execution_count": 29,
      "metadata": {
        "id": "FpMOSWR2n8vc",
        "colab": {
          "base_uri": "https://localhost:8080/"
        },
        "outputId": "fe87b5da-600d-4ae5-de36-7eb200db07c9"
      },
      "outputs": [
        {
          "output_type": "stream",
          "name": "stdout",
          "text": [
            "313/313 [==============================] - 1s 2ms/step - loss: 0.0837 - accuracy: 0.9763\n",
            "\n",
            "accuracy =  0.9763000011444092\n"
          ]
        }
      ],
      "source": [
        "scores = model.evaluate(X_Test_normalize, y_TestOneHot)\n",
        "print()\n",
        "print('accuracy = ', scores[1])"
      ]
    },
    {
      "cell_type": "markdown",
      "metadata": {
        "id": "80wdyNJY40PA"
      },
      "source": [
        "執行預測，將結果存到 prediction 中。"
      ]
    },
    {
      "cell_type": "code",
      "execution_count": 30,
      "metadata": {
        "id": "PjVUnCEnn8vc",
        "colab": {
          "base_uri": "https://localhost:8080/"
        },
        "outputId": "8e6d5585-448d-4a78-81a2-0a17e89810e2"
      },
      "outputs": [
        {
          "output_type": "stream",
          "name": "stdout",
          "text": [
            "313/313 [==============================] - 1s 2ms/step\n"
          ]
        }
      ],
      "source": [
        "prediction = np.argmax(model.predict(X_Test), axis = -1)"
      ]
    },
    {
      "cell_type": "code",
      "execution_count": 31,
      "metadata": {
        "id": "h9SWS2kqn8vc",
        "colab": {
          "base_uri": "https://localhost:8080/"
        },
        "outputId": "a1f47c74-6cfd-40a0-8350-0b01c3d4855d"
      },
      "outputs": [
        {
          "output_type": "execute_result",
          "data": {
            "text/plain": [
              "array([7, 2, 1, ..., 4, 5, 6])"
            ]
          },
          "metadata": {},
          "execution_count": 31
        }
      ],
      "source": [
        "prediction"
      ]
    },
    {
      "cell_type": "markdown",
      "metadata": {
        "id": "lpO7D8kU5Cc_"
      },
      "source": [
        "顯示 10 筆預測結果。"
      ]
    },
    {
      "cell_type": "code",
      "execution_count": 32,
      "metadata": {
        "id": "3P_gdFyBn8vc",
        "scrolled": false,
        "colab": {
          "base_uri": "https://localhost:8080/",
          "height": 439
        },
        "outputId": "195c8c90-4797-4f41-bc34-631433b52f21"
      },
      "outputs": [
        {
          "output_type": "display_data",
          "data": {
            "text/plain": [
              "<Figure size 1200x1400 with 10 Axes>"
            ],
            "image/png": "[encoded data removed]"
          },
          "metadata": {}
        }
      ],
      "source": [
        "plot_images_labels_prediction(X_test_image, y_test_label, prediction, idx = 340)"
      ]
    },
    {
      "cell_type": "code",
      "source": [
        "y_test_label = y_test_label.reshape(10000)"
      ],
      "metadata": {
        "id": "bwAxlDHhxG-D"
      },
      "execution_count": 33,
      "outputs": []
    },
    {
      "cell_type": "markdown",
      "metadata": {
        "id": "wPnqNhGnvgqS"
      },
      "source": [
        "混淆矩陣"
      ]
    },
    {
      "cell_type": "code",
      "execution_count": 34,
      "metadata": {
        "id": "MnGfKgExvgqS",
        "colab": {
          "base_uri": "https://localhost:8080/",
          "height": 394
        },
        "outputId": "5fa1e670-7853-4e84-d461-0aa3ccf8db9d"
      },
      "outputs": [
        {
          "output_type": "execute_result",
          "data": {
            "text/plain": [
              "predict    0     1     2    3    4    5    6    7    8    9\n",
              "label                                                      \n",
              "0        971     0     1    1    0    0    2    0    2    3\n",
              "1          0  1122     4    0    0    1    4    1    3    0\n",
              "2          7     0  1010    3    1    0    4    4    3    0\n",
              "3          0     0     6  988    0    5    0    2    6    3\n",
              "4          2     0     3    0  950    0    6    4    0   17\n",
              "5          3     0     0   20    1  854    7    1    4    2\n",
              "6          7     1     1    0    2    4  940    0    3    0\n",
              "7          1     2    13    7    1    1    0  989    1   13\n",
              "8          7     0     2    6    4    4    4    3  941    3\n",
              "9          5     4     0    7    7    2    0    4    1  979"
            ],
            "text/html": [
              "\n",
              "  <div id=\"df-db9274bc-a4f2-437c-a284-1f678031945b\" class=\"colab-df-container\">\n",
              "    <div>\n",
              "<style scoped>\n",
              "    .dataframe tbody tr th:only-of-type {\n",
              "        vertical-align: middle;\n",
              "    }\n",
              "\n",
              "    .dataframe tbody tr th {\n",
              "        vertical-align: top;\n",
              "    }\n",
              "\n",
              "    .dataframe thead th {\n",
              "        text-align: right;\n",
              "    }\n",
              "</style>\n",
              "<table border=\"1\" class=\"dataframe\">\n",
              "  <thead>\n",
              "    <tr style=\"text-align: right;\">\n",
              "      <th>predict</th>\n",
              "      <th>0</th>\n",
              "      <th>1</th>\n",
              "      <th>2</th>\n",
              "      <th>3</th>\n",
              "      <th>4</th>\n",
              "      <th>5</th>\n",
              "      <th>6</th>\n",
              "      <th>7</th>\n",
              "      <th>8</th>\n",
              "      <th>9</th>\n",
              "    </tr>\n",
              "    <tr>\n",
              "      <th>label</th>\n",
              "      <th></th>\n",
              "      <th></th>\n",
              "      <th></th>\n",
              "      <th></th>\n",
              "      <th></th>\n",
              "      <th></th>\n",
              "      <th></th>\n",
              "      <th></th>\n",
              "      <th></th>\n",
              "      <th></th>\n",
              "    </tr>\n",
              "  </thead>\n",
              "  <tbody>\n",
              "    <tr>\n",
              "      <th>0</th>\n",
              "      <td>971</td>\n",
              "      <td>0</td>\n",
              "      <td>1</td>\n",
              "      <td>1</td>\n",
              "      <td>0</td>\n",
              "      <td>0</td>\n",
              "      <td>2</td>\n",
              "      <td>0</td>\n",
              "      <td>2</td>\n",
              "      <td>3</td>\n",
              "    </tr>\n",
              "    <tr>\n",
              "      <th>1</th>\n",
              "      <td>0</td>\n",
              "      <td>1122</td>\n",
              "      <td>4</td>\n",
              "      <td>0</td>\n",
              "      <td>0</td>\n",
              "      <td>1</td>\n",
              "      <td>4</td>\n",
              "      <td>1</td>\n",
              "      <td>3</td>\n",
              "      <td>0</td>\n",
              "    </tr>\n",
              "    <tr>\n",
              "      <th>2</th>\n",
              "      <td>7</td>\n",
              "      <td>0</td>\n",
              "      <td>1010</td>\n",
              "      <td>3</td>\n",
              "      <td>1</td>\n",
              "      <td>0</td>\n",
              "      <td>4</td>\n",
              "      <td>4</td>\n",
              "      <td>3</td>\n",
              "      <td>0</td>\n",
              "    </tr>\n",
              "    <tr>\n",
              "      <th>3</th>\n",
              "      <td>0</td>\n",
              "      <td>0</td>\n",
              "      <td>6</td>\n",
              "      <td>988</td>\n",
              "      <td>0</td>\n",
              "      <td>5</td>\n",
              "      <td>0</td>\n",
              "      <td>2</td>\n",
              "      <td>6</td>\n",
              "      <td>3</td>\n",
              "    </tr>\n",
              "    <tr>\n",
              "      <th>4</th>\n",
              "      <td>2</td>\n",
              "      <td>0</td>\n",
              "      <td>3</td>\n",
              "      <td>0</td>\n",
              "      <td>950</td>\n",
              "      <td>0</td>\n",
              "      <td>6</td>\n",
              "      <td>4</td>\n",
              "      <td>0</td>\n",
              "      <td>17</td>\n",
              "    </tr>\n",
              "    <tr>\n",
              "      <th>5</th>\n",
              "      <td>3</td>\n",
              "      <td>0</td>\n",
              "      <td>0</td>\n",
              "      <td>20</td>\n",
              "      <td>1</td>\n",
              "      <td>854</td>\n",
              "      <td>7</td>\n",
              "      <td>1</td>\n",
              "      <td>4</td>\n",
              "      <td>2</td>\n",
              "    </tr>\n",
              "    <tr>\n",
              "      <th>6</th>\n",
              "      <td>7</td>\n",
              "      <td>1</td>\n",
              "      <td>1</td>\n",
              "      <td>0</td>\n",
              "      <td>2</td>\n",
              "      <td>4</td>\n",
              "      <td>940</td>\n",
              "      <td>0</td>\n",
              "      <td>3</td>\n",
              "      <td>0</td>\n",
              "    </tr>\n",
              "    <tr>\n",
              "      <th>7</th>\n",
              "      <td>1</td>\n",
              "      <td>2</td>\n",
              "      <td>13</td>\n",
              "      <td>7</td>\n",
              "      <td>1</td>\n",
              "      <td>1</td>\n",
              "      <td>0</td>\n",
              "      <td>989</td>\n",
              "      <td>1</td>\n",
              "      <td>13</td>\n",
              "    </tr>\n",
              "    <tr>\n",
              "      <th>8</th>\n",
              "      <td>7</td>\n",
              "      <td>0</td>\n",
              "      <td>2</td>\n",
              "      <td>6</td>\n",
              "      <td>4</td>\n",
              "      <td>4</td>\n",
              "      <td>4</td>\n",
              "      <td>3</td>\n",
              "      <td>941</td>\n",
              "      <td>3</td>\n",
              "    </tr>\n",
              "    <tr>\n",
              "      <th>9</th>\n",
              "      <td>5</td>\n",
              "      <td>4</td>\n",
              "      <td>0</td>\n",
              "      <td>7</td>\n",
              "      <td>7</td>\n",
              "      <td>2</td>\n",
              "      <td>0</td>\n",
              "      <td>4</td>\n",
              "      <td>1</td>\n",
              "      <td>979</td>\n",
              "    </tr>\n",
              "  </tbody>\n",
              "</table>\n",
              "</div>\n",
              "    <div class=\"colab-df-buttons\">\n",
              "\n",
              "  <div class=\"colab-df-container\">\n",
              "    <button class=\"colab-df-convert\" onclick=\"convertToInteractive('df-db9274bc-a4f2-437c-a284-1f678031945b')\"\n",
              "            title=\"Convert this dataframe to an interactive table.\"\n",
              "            style=\"display:none;\">\n",
              "\n",
              "  <svg xmlns=\"http://www.w3.org/2000/svg\" height=\"24px\" viewBox=\"0 -960 960 960\">\n",
              "    <path d=\"M120-120v-720h720v720H120Zm60-500h600v-160H180v160Zm220 220h160v-160H400v160Zm0 220h160v-160H400v160ZM180-400h160v-160H180v160Zm440 0h160v-160H620v160ZM180-180h160v-160H180v160Zm440 0h160v-160H620v160Z\"/>\n",
              "  </svg>\n",
              "    </button>\n",
              "\n",
              "  <style>\n",
              "    .colab-df-container {\n",
              "      display:flex;\n",
              "      gap: 12px;\n",
              "    }\n",
              "\n",
              "    .colab-df-convert {\n",
              "      background-color: #E8F0FE;\n",
              "      border: none;\n",
              "      border-radius: 50%;\n",
              "      cursor: pointer;\n",
              "      display: none;\n",
              "      fill: #1967D2;\n",
              "      height: 32px;\n",
              "      padding: 0 0 0 0;\n",
              "      width: 32px;\n",
              "    }\n",
              "\n",
              "    .colab-df-convert:hover {\n",
              "      background-color: #E2EBFA;\n",
              "      box-shadow: 0px 1px 2px rgba(60, 64, 67, 0.3), 0px 1px 3px 1px rgba(60, 64, 67, 0.15);\n",
              "      fill: #174EA6;\n",
              "    }\n",
              "\n",
              "    .colab-df-buttons div {\n",
              "      margin-bottom: 4px;\n",
              "    }\n",
              "\n",
              "    [theme=dark] .colab-df-convert {\n",
              "      background-color: #3B4455;\n",
              "      fill: #D2E3FC;\n",
              "    }\n",
              "\n",
              "    [theme=dark] .colab-df-convert:hover {\n",
              "      background-color: #434B5C;\n",
              "      box-shadow: 0px 1px 3px 1px rgba(0, 0, 0, 0.15);\n",
              "      filter: drop-shadow(0px 1px 2px rgba(0, 0, 0, 0.3));\n",
              "      fill: #FFFFFF;\n",
              "    }\n",
              "  </style>\n",
              "\n",
              "    <script>\n",
              "      const buttonEl =\n",
              "        document.querySelector('#df-db9274bc-a4f2-437c-a284-1f678031945b button.colab-df-convert');\n",
              "      buttonEl.style.display =\n",
              "        google.colab.kernel.accessAllowed ? 'block' : 'none';\n",
              "\n",
              "      async function convertToInteractive(key) {\n",
              "        const element = document.querySelector('#df-db9274bc-a4f2-437c-a284-1f678031945b');\n",
              "        const dataTable =\n",
              "          await google.colab.kernel.invokeFunction('convertToInteractive',\n",
              "                                                    [key], {});\n",
              "        if (!dataTable) return;\n",
              "\n",
              "        const docLinkHtml = 'Like what you see? Visit the ' +\n",
              "          '<a target=\"_blank\" href=https://colab.research.google.com/notebooks/data_table.ipynb>data table notebook</a>'\n",
              "          + ' to learn more about interactive tables.';\n",
              "        element.innerHTML = '';\n",
              "        dataTable['output_type'] = 'display_data';\n",
              "        await google.colab.output.renderOutput(dataTable, element);\n",
              "        const docLink = document.createElement('div');\n",
              "        docLink.innerHTML = docLinkHtml;\n",
              "        element.appendChild(docLink);\n",
              "      }\n",
              "    </script>\n",
              "  </div>\n",
              "\n",
              "\n",
              "<div id=\"df-821076bc-3600-4327-8b13-c76bb4ed30ee\">\n",
              "  <button class=\"colab-df-quickchart\" onclick=\"quickchart('df-821076bc-3600-4327-8b13-c76bb4ed30ee')\"\n",
              "            title=\"Suggest charts\"\n",
              "            style=\"display:none;\">\n",
              "\n",
              "<svg xmlns=\"http://www.w3.org/2000/svg\" height=\"24px\"viewBox=\"0 0 24 24\"\n",
              "     width=\"24px\">\n",
              "    <g>\n",
              "        <path d=\"M19 3H5c-1.1 0-2 .9-2 2v14c0 1.1.9 2 2 2h14c1.1 0 2-.9 2-2V5c0-1.1-.9-2-2-2zM9 17H7v-7h2v7zm4 0h-2V7h2v10zm4 0h-2v-4h2v4z\"/>\n",
              "    </g>\n",
              "</svg>\n",
              "  </button>\n",
              "\n",
              "<style>\n",
              "  .colab-df-quickchart {\n",
              "      --bg-color: #E8F0FE;\n",
              "      --fill-color: #1967D2;\n",
              "      --hover-bg-color: #E2EBFA;\n",
              "      --hover-fill-color: #174EA6;\n",
              "      --disabled-fill-color: #AAA;\n",
              "      --disabled-bg-color: #DDD;\n",
              "  }\n",
              "\n",
              "  [theme=dark] .colab-df-quickchart {\n",
              "      --bg-color: #3B4455;\n",
              "      --fill-color: #D2E3FC;\n",
              "      --hover-bg-color: #434B5C;\n",
              "      --hover-fill-color: #FFFFFF;\n",
              "      --disabled-bg-color: #3B4455;\n",
              "      --disabled-fill-color: #666;\n",
              "  }\n",
              "\n",
              "  .colab-df-quickchart {\n",
              "    background-color: var(--bg-color);\n",
              "    border: none;\n",
              "    border-radius: 50%;\n",
              "    cursor: pointer;\n",
              "    display: none;\n",
              "    fill: var(--fill-color);\n",
              "    height: 32px;\n",
              "    padding: 0;\n",
              "    width: 32px;\n",
              "  }\n",
              "\n",
              "  .colab-df-quickchart:hover {\n",
              "    background-color: var(--hover-bg-color);\n",
              "    box-shadow: 0 1px 2px rgba(60, 64, 67, 0.3), 0 1px 3px 1px rgba(60, 64, 67, 0.15);\n",
              "    fill: var(--button-hover-fill-color);\n",
              "  }\n",
              "\n",
              "  .colab-df-quickchart-complete:disabled,\n",
              "  .colab-df-quickchart-complete:disabled:hover {\n",
              "    background-color: var(--disabled-bg-color);\n",
              "    fill: var(--disabled-fill-color);\n",
              "    box-shadow: none;\n",
              "  }\n",
              "\n",
              "  .colab-df-spinner {\n",
              "    border: 2px solid var(--fill-color);\n",
              "    border-color: transparent;\n",
              "    border-bottom-color: var(--fill-color);\n",
              "    animation:\n",
              "      spin 1s steps(1) infinite;\n",
              "  }\n",
              "\n",
              "  @keyframes spin {\n",
              "    0% {\n",
              "      border-color: transparent;\n",
              "      border-bottom-color: var(--fill-color);\n",
              "      border-left-color: var(--fill-color);\n",
              "    }\n",
              "    20% {\n",
              "      border-color: transparent;\n",
              "      border-left-color: var(--fill-color);\n",
              "      border-top-color: var(--fill-color);\n",
              "    }\n",
              "    30% {\n",
              "      border-color: transparent;\n",
              "      border-left-color: var(--fill-color);\n",
              "      border-top-color: var(--fill-color);\n",
              "      border-right-color: var(--fill-color);\n",
              "    }\n",
              "    40% {\n",
              "      border-color: transparent;\n",
              "      border-right-color: var(--fill-color);\n",
              "      border-top-color: var(--fill-color);\n",
              "    }\n",
              "    60% {\n",
              "      border-color: transparent;\n",
              "      border-right-color: var(--fill-color);\n",
              "    }\n",
              "    80% {\n",
              "      border-color: transparent;\n",
              "      border-right-color: var(--fill-color);\n",
              "      border-bottom-color: var(--fill-color);\n",
              "    }\n",
              "    90% {\n",
              "      border-color: transparent;\n",
              "      border-bottom-color: var(--fill-color);\n",
              "    }\n",
              "  }\n",
              "</style>\n",
              "\n",
              "  <script>\n",
              "    async function quickchart(key) {\n",
              "      const quickchartButtonEl =\n",
              "        document.querySelector('#' + key + ' button');\n",
              "      quickchartButtonEl.disabled = true;  // To prevent multiple clicks.\n",
              "      quickchartButtonEl.classList.add('colab-df-spinner');\n",
              "      try {\n",
              "        const charts = await google.colab.kernel.invokeFunction(\n",
              "            'suggestCharts', [key], {});\n",
              "      } catch (error) {\n",
              "        console.error('Error during call to suggestCharts:', error);\n",
              "      }\n",
              "      quickchartButtonEl.classList.remove('colab-df-spinner');\n",
              "      quickchartButtonEl.classList.add('colab-df-quickchart-complete');\n",
              "    }\n",
              "    (() => {\n",
              "      let quickchartButtonEl =\n",
              "        document.querySelector('#df-821076bc-3600-4327-8b13-c76bb4ed30ee button');\n",
              "      quickchartButtonEl.style.display =\n",
              "        google.colab.kernel.accessAllowed ? 'block' : 'none';\n",
              "    })();\n",
              "  </script>\n",
              "</div>\n",
              "    </div>\n",
              "  </div>\n"
            ]
          },
          "metadata": {},
          "execution_count": 34
        }
      ],
      "source": [
        "#使用 pandas 中的 crosstab 能夠很方便的建立混淆矩陣。\n",
        "pd.crosstab(y_test_label, prediction, rownames = ['label'], colnames = ['predict'])"
      ]
    },
    {
      "cell_type": "markdown",
      "source": [
        "# Code"
      ],
      "metadata": {
        "id": "2vMabmYUgaWd"
      }
    },
    {
      "cell_type": "code",
      "source": [
        "import numpy as np\n",
        "from PIL import Image\n",
        "import matplotlib.pyplot as plt\n",
        "from google.colab import files\n",
        "import io\n",
        "\n",
        "# 上傳圖像文件\n",
        "uploaded_file = files.upload()\n",
        "\n",
        "# 讀取上傳的圖像文件\n",
        "image_path = list(uploaded_file.keys())[0]\n",
        "img = Image.open(io.BytesIO(uploaded_file[image_path])).convert('L')  # 轉為灰度圖像\n",
        "img = img.resize((28, 28))  # 調整圖像大小為模型輸入大小\n",
        "\n",
        "\n",
        "# 將圖像轉為模型輸入格式\n",
        "img_array = np.array(img).reshape((1, 28, 28, 1)).astype('float32') / 255\n",
        "\n",
        "# 進行數字預測\n",
        "prediction = model.predict(img_array)\n",
        "predicted_digit = np.argmax(prediction)\n",
        "\n",
        "# 顯示上傳的圖像\n",
        "plt.imshow(img, cmap='gray')\n",
        "plt.title('prediction_digit = '+str(predicted_digit))\n",
        "plt.axis()\n",
        "plt.show()\n"
      ],
      "metadata": {
        "colab": {
          "base_uri": "https://localhost:8080/",
          "height": 528
        },
        "id": "su8lorORgd8R",
        "outputId": "16ec1852-b94a-4099-c843-825f97822d8a"
      },
      "execution_count": 35,
      "outputs": [
        {
          "output_type": "display_data",
          "data": {
            "text/plain": [
              "<IPython.core.display.HTML object>"
            ],
            "text/html": [
              "\n",
              "     <input type=\"file\" id=\"files-4012e007-43f6-461f-9d0b-7281ce6e7372\" name=\"files[]\" multiple disabled\n",
              "        style=\"border:none\" />\n",
              "     <output id=\"result-4012e007-43f6-461f-9d0b-7281ce6e7372\">\n",
              "      Upload widget is only available when the cell has been executed in the\n",
              "      current browser session. Please rerun this cell to enable.\n",
              "      </output>\n",
              "      <script>// Copyright 2017 Google LLC\n",
              "//\n",
              "// Licensed under the Apache License, Version 2.0 (the \"License\");\n",
              "// you may not use this file except in compliance with the License.\n",
              "// You may obtain a copy of the License at\n",
              "//\n",
              "//      http://www.apache.org/licenses/LICENSE-2.0\n",
              "//\n",
              "// Unless required by applicable law or agreed to in writing, software\n",
              "// distributed under the License is distributed on an \"AS IS\" BASIS,\n",
              "// WITHOUT WARRANTIES OR CONDITIONS OF ANY KIND, either express or implied.\n",
              "// See the License for the specific language governing permissions and\n",
              "// limitations under the License.\n",
              "\n",
              "/**\n",
              " * @fileoverview Helpers for google.colab Python module.\n",
              " */\n",
              "(function(scope) {\n",
              "function span(text, styleAttributes = {}) {\n",
              "  const element = document.createElement('span');\n",
              "  element.textContent = text;\n",
              "  for (const key of Object.keys(styleAttributes)) {\n",
              "    element.style[key] = styleAttributes[key];\n",
              "  }\n",
              "  return element;\n",
              "}\n",
              "\n",
              "// Max number of bytes which will be uploaded at a time.\n",
              "const MAX_PAYLOAD_SIZE = 100 * 1024;\n",
              "\n",
              "function _uploadFiles(inputId, outputId) {\n",
              "  const steps = uploadFilesStep(inputId, outputId);\n",
              "  const outputElement = document.getElementById(outputId);\n",
              "  // Cache steps on the outputElement to make it available for the next call\n",
              "  // to uploadFilesContinue from Python.\n",
              "  outputElement.steps = steps;\n",
              "\n",
              "  return _uploadFilesContinue(outputId);\n",
              "}\n",
              "\n",
              "// This is roughly an async generator (not supported in the browser yet),\n",
              "// where there are multiple asynchronous steps and the Python side is going\n",
              "// to poll for completion of each step.\n",
              "// This uses a Promise to block the python side on completion of each step,\n",
              "// then passes the result of the previous step as the input to the next step.\n",
              "function _uploadFilesContinue(outputId) {\n",
              "  const outputElement = document.getElementById(outputId);\n",
              "  const steps = outputElement.steps;\n",
              "\n",
              "  const next = steps.next(outputElement.lastPromiseValue);\n",
              "  return Promise.resolve(next.value.promise).then((value) => {\n",
              "    // Cache the last promise value to make it available to the next\n",
              "    // step of the generator.\n",
              "    outputElement.lastPromiseValue = value;\n",
              "    return next.value.response;\n",
              "  });\n",
              "}\n",
              "\n",
              "/**\n",
              " * Generator function which is called between each async step of the upload\n",
              " * process.\n",
              " * @param {string} inputId Element ID of the input file picker element.\n",
              " * @param {string} outputId Element ID of the output display.\n",
              " * @return {!Iterable<!Object>} Iterable of next steps.\n",
              " */\n",
              "function* uploadFilesStep(inputId, outputId) {\n",
              "  const inputElement = document.getElementById(inputId);\n",
              "  inputElement.disabled = false;\n",
              "\n",
              "  const outputElement = document.getElementById(outputId);\n",
              "  outputElement.innerHTML = '';\n",
              "\n",
              "  const pickedPromise = new Promise((resolve) => {\n",
              "    inputElement.addEventListener('change', (e) => {\n",
              "      resolve(e.target.files);\n",
              "    });\n",
              "  });\n",
              "\n",
              "  const cancel = document.createElement('button');\n",
              "  inputElement.parentElement.appendChild(cancel);\n",
              "  cancel.textContent = 'Cancel upload';\n",
              "  const cancelPromise = new Promise((resolve) => {\n",
              "    cancel.onclick = () => {\n",
              "      resolve(null);\n",
              "    };\n",
              "  });\n",
              "\n",
              "  // Wait for the user to pick the files.\n",
              "  const files = yield {\n",
              "    promise: Promise.race([pickedPromise, cancelPromise]),\n",
              "    response: {\n",
              "      action: 'starting',\n",
              "    }\n",
              "  };\n",
              "\n",
              "  cancel.remove();\n",
              "\n",
              "  // Disable the input element since further picks are not allowed.\n",
              "  inputElement.disabled = true;\n",
              "\n",
              "  if (!files) {\n",
              "    return {\n",
              "      response: {\n",
              "        action: 'complete',\n",
              "      }\n",
              "    };\n",
              "  }\n",
              "\n",
              "  for (const file of files) {\n",
              "    const li = document.createElement('li');\n",
              "    li.append(span(file.name, {fontWeight: 'bold'}));\n",
              "    li.append(span(\n",
              "        `(${file.type || 'n/a'}) - ${file.size} bytes, ` +\n",
              "        `last modified: ${\n",
              "            file.lastModifiedDate ? file.lastModifiedDate.toLocaleDateString() :\n",
              "                                    'n/a'} - `));\n",
              "    const percent = span('0% done');\n",
              "    li.appendChild(percent);\n",
              "\n",
              "    outputElement.appendChild(li);\n",
              "\n",
              "    const fileDataPromise = new Promise((resolve) => {\n",
              "      const reader = new FileReader();\n",
              "      reader.onload = (e) => {\n",
              "        resolve(e.target.result);\n",
              "      };\n",
              "      reader.readAsArrayBuffer(file);\n",
              "    });\n",
              "    // Wait for the data to be ready.\n",
              "    let fileData = yield {\n",
              "      promise: fileDataPromise,\n",
              "      response: {\n",
              "        action: 'continue',\n",
              "      }\n",
              "    };\n",
              "\n",
              "    // Use a chunked sending to avoid message size limits. See b/62115660.\n",
              "    let position = 0;\n",
              "    do {\n",
              "      const length = Math.min(fileData.byteLength - position, MAX_PAYLOAD_SIZE);\n",
              "      const chunk = new Uint8Array(fileData, position, length);\n",
              "      position += length;\n",
              "\n",
              "      const base64 = btoa(String.fromCharCode.apply(null, chunk));\n",
              "      yield {\n",
              "        response: {\n",
              "          action: 'append',\n",
              "          file: file.name,\n",
              "          data: base64,\n",
              "        },\n",
              "      };\n",
              "\n",
              "      let percentDone = fileData.byteLength === 0 ?\n",
              "          100 :\n",
              "          Math.round((position / fileData.byteLength) * 100);\n",
              "      percent.textContent = `${percentDone}% done`;\n",
              "\n",
              "    } while (position < fileData.byteLength);\n",
              "  }\n",
              "\n",
              "  // All done.\n",
              "  yield {\n",
              "    response: {\n",
              "      action: 'complete',\n",
              "    }\n",
              "  };\n",
              "}\n",
              "\n",
              "scope.google = scope.google || {};\n",
              "scope.google.colab = scope.google.colab || {};\n",
              "scope.google.colab._files = {\n",
              "  _uploadFiles,\n",
              "  _uploadFilesContinue,\n",
              "};\n",
              "})(self);\n",
              "</script> "
            ]
          },
          "metadata": {}
        },
        {
          "output_type": "stream",
          "name": "stdout",
          "text": [
            "Saving 2.jpg to 2.jpg\n",
            "1/1 [==============================] - 0s 83ms/step\n"
          ]
        },
        {
          "output_type": "display_data",
          "data": {
            "text/plain": [
              "<Figure size 640x480 with 1 Axes>"
            ],
            "image/png": "[encoded data removed]"
          },
          "metadata": {}
        }
      ]
    }
  ],
  "metadata": {
    "accelerator": "GPU",
    "colab": {
      "provenance": []
    },
    "gpuClass": "standard",
    "kernelspec": {
      "display_name": "Python 3.7.9 ('py37_tensorflow')",
      "language": "python",
      "name": "python3"
    },
    "language_info": {
      "codemirror_mode": {
        "name": "ipython",
        "version": 3
      },
      "file_extension": ".py",
      "mimetype": "text/x-python",
      "name": "python",
      "nbconvert_exporter": "python",
      "pygments_lexer": "ipython3",
      "version": "3.7.9"
    },
    "vscode": {
      "interpreter": {
        "hash": "d194fa7cde35d0544ffd86d7eb28ea43b62c695d72f93f04bc49d19e1b400069"
      }
    }
  },
  "nbformat": 4,
  "nbformat_minor": 0
}